{
 "cells": [
  {
   "cell_type": "code",
   "execution_count": null,
   "id": "d6ff69d4",
   "metadata": {},
   "outputs": [],
   "source": [
    "import re\n",
    "\n",
    "def identificar_bandeira(card_number):\n",
    "    card_number = str(card_number).replace(\" \", \"\")\n",
    "\n",
    "    patterns = {\n",
    "        'Visa':        r'^4\\d{12}(\\d{3})?(\\d{3})?$',\n",
    "        'Mastercard':  r'^(5[1-5]\\d{14}|2(2[2-9]\\d{12}|[3-6]\\d{13}|7[01]\\d{12}|720\\d{12}))$',\n",
    "        'American Express': r'^3[47]\\d{13}$',\n",
    "        'Discover':    r'^(6011\\d{12}|65\\d{14}|64[4-9]\\d{13})$',\n",
    "        'Diners Club': r'^(3(0[0-5]|[68]\\d)\\d{11})$',\n",
    "        'JCB':         r'^(35\\d{14,17})$',\n",
    "        'Elo':         r'^(4011(78|79)\\d{10}|431274\\d{10}|438935\\d{10}|451416\\d{10}|457393\\d{10}|504175\\d{10}|5067(0[0-9]|1[0-9]|20)\\d{10}|509\\d{13}|627780\\d{10}|636297\\d{10}|636368\\d{10}|650\\d{13}|6516\\d{12}|6550\\d{12})$',\n",
    "        'Hipercard':   r'^(606282\\d{10}(\\d{3})?|3841\\d{15})$',\n",
    "        'EnRoute': r'^(2014|2149)[\\s-]?\\d{4}[\\s-]?\\d{4}[\\s-]?\\d{3}$',\n",
    "        'Voyager': r'^8699[\\s-]?\\d{4}[\\s-]?\\d{4}[\\s-]?\\d{3}$',\n",
    "        'Aura': r'^(50)\\d{14}$'\n",
    "    \n",
    "    }\n",
    "\n",
    "    for bandeira, pattern in patterns.items():\n",
    "        if re.fullmatch(pattern, card_number):\n",
    "            return bandeira\n",
    "    return 'Bandeira desconhecida'"
   ]
  },
  {
   "cell_type": "code",
   "execution_count": 73,
   "id": "1ae99bdc",
   "metadata": {},
   "outputs": [
    {
     "name": "stdout",
     "output_type": "stream",
     "text": [
      "Cartão: 5599 2000 7936 2457 -> Bandeira: Mastercard\n",
      "Cartão: 4024007121693831 -> Bandeira: Visa\n",
      "Cartão: 3750 824320 96829 -> Bandeira: American Express\n",
      "Cartão: 36016119620304 -> Bandeira: Diners Club\n",
      "Cartão: 6011827404801268 -> Bandeira: Discover\n",
      "Cartão: 2014 2580011 5475 -> Bandeira: EnRoute\n",
      "Cartão: 3520 4695 1704 8791 -> Bandeira: JCB\n",
      "Cartão: 86998 8761 89767 3 -> Bandeira: Voyager\n",
      "Cartão: 6062 8244 9514 0241 -> Bandeira: Hipercard\n",
      "Cartão: 5043 0339 7842 9255 -> Bandeira: Aura\n"
     ]
    }
   ],
   "source": [
    "# Exemplos de uso:\n",
    "cartoes = [\n",
    "    '5599 2000 7936 2457', #Martercard\n",
    "    '4024007121693831', #Visa 16\n",
    "    '3750 824320 96829', #American Express\n",
    "    '36016119620304', #Diners Club\n",
    "    '6011827404801268', #Discover\n",
    "    '2014 2580011 5475', #EnRoute\n",
    "    '3520 4695 1704 8791', #JCB\n",
    "    '86998 8761 89767 3', #Voyager\n",
    "    '6062 8244 9514 0241', #Hipercard\n",
    "    '5043 0339 7842 9255', #Aura\n",
    "\n",
    "]\n",
    "\n",
    "for card in cartoes:\n",
    "    print(f'Cartão: {card} -> Bandeira: {identificar_bandeira(card.strip())}')"
   ]
  }
 ],
 "metadata": {
  "kernelspec": {
   "display_name": "imo",
   "language": "python",
   "name": "python3"
  },
  "language_info": {
   "codemirror_mode": {
    "name": "ipython",
    "version": 3
   },
   "file_extension": ".py",
   "mimetype": "text/x-python",
   "name": "python",
   "nbconvert_exporter": "python",
   "pygments_lexer": "ipython3",
   "version": "3.11.9"
  }
 },
 "nbformat": 4,
 "nbformat_minor": 5
}
